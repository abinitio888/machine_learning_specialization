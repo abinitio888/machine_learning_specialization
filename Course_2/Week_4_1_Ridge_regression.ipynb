{
 "cells": [
  {
   "cell_type": "markdown",
   "metadata": {},
   "source": [
    "# Week 4_1: Ridge regression (interpretation)"
   ]
  },
  {
   "cell_type": "markdown",
   "metadata": {},
   "source": [
    "In this notebook, we will run ridge regression multiple times with different L2 penalties to see which one produces the best fit. We will revisit the example of polynomial regression as a means to see the effect of L2 regularization. In particular, we will:\n",
    "* Use a pre-built implementation of regression (GraphLab Create) to run polynomial regression\n",
    "* Use matplotlib to visualize polynomial regressions\n",
    "* Use a pre-built implementation of regression (GraphLab Create) to run polynomial regression, this time with L2 penalty\n",
    "* Use matplotlib to visualize polynomial regressions under L2 regularization\n",
    "* Choose best L2 penalty using cross-validation.\n",
    "* Assess the final fit using test data.\n",
    "\n",
    "We will continue to use the House data from previous notebooks.  (In the next programming assignment for this module, you will implement your own ridge regression learning algorithm using gradient descent.)"
   ]
  },
  {
   "cell_type": "code",
   "execution_count": 1,
   "metadata": {
    "collapsed": false
   },
   "outputs": [
    {
     "name": "stderr",
     "output_type": "stream",
     "text": [
      "[WARNING] Unable to write current GraphLab Create license to /Users/jcj/.graphlab/config. Ensure that this user account has write permission to /Users/jcj/.graphlab/config to save the license for offline use.\n",
      "[INFO] This non-commercial license of GraphLab Create is assigned to chengjun@chem.ku.dk and will expire on January 27, 2017. For commercial licensing options, visit https://dato.com/buy/.\n",
      "\n",
      "[INFO] Start server at: ipc:///tmp/graphlab_server-94534 - Server binary: /usr/local/lib/python2.7/site-packages/graphlab/unity_server - Server log: /tmp/graphlab_server_1455184509.log\n",
      "[INFO] GraphLab Server Version: 1.8.1\n",
      "[WARNING] Unable to create session in specified location: '/Users/jcj/.graphlab/artifacts'. Using: '/var/tmp/graphlab-jcj/94534/tmp_session_ec6b9a29-de95-4846-b48d-5943ee3b858f'\n"
     ]
    }
   ],
   "source": [
    "import graphlab\n",
    "import numpy as np"
   ]
  },
  {
   "cell_type": "markdown",
   "metadata": {},
   "source": [
    "## Revisited polynomial model"
   ]
  },
  {
   "cell_type": "code",
   "execution_count": 2,
   "metadata": {
    "collapsed": true
   },
   "outputs": [],
   "source": [
    "def polynomial_sframe(feature, degree):\n",
    "    poly_sframe = graphlab.SFrame()\n",
    "    poly_sframe['power_1'] = feature\n",
    "    if degree > 1:\n",
    "        for power in range(2, degree+1):\n",
    "            name = 'power_' + str(power)\n",
    "            tmp = feature.apply(lambda x: x**power)\n",
    "            poly_sframe[name] = tmp\n",
    "    return poly_sframe"
   ]
  },
  {
   "cell_type": "code",
   "execution_count": 3,
   "metadata": {
    "collapsed": true
   },
   "outputs": [],
   "source": [
    "sales = graphlab.SFrame('kc_house_data.gl/')"
   ]
  },
  {
   "cell_type": "code",
   "execution_count": 4,
   "metadata": {
    "collapsed": false
   },
   "outputs": [],
   "source": [
    "#sales.sort(['sqft_living'])\n",
    "sales = sales.sort(['sqft_living', 'price'])"
   ]
  },
  {
   "cell_type": "code",
   "execution_count": 5,
   "metadata": {
    "collapsed": false
   },
   "outputs": [],
   "source": [
    "poly15_data = polynomial_sframe(sales['sqft_living'], 15)\n",
    "poly15_data['price'] = sales['price']"
   ]
  },
  {
   "cell_type": "markdown",
   "metadata": {},
   "source": [
    "## Create ridge model"
   ]
  },
  {
   "cell_type": "code",
   "execution_count": 6,
   "metadata": {
    "collapsed": false
   },
   "outputs": [],
   "source": [
    "def ridge_model(data, l2_penalty, degree):\n",
    "    features = []\n",
    "    for i in range(1, degree+1):\n",
    "        features.append('power_' + str(i))\n",
    "        \n",
    "    model = graphlab.linear_regression.create(data, \n",
    "                                      target='price', \n",
    "                                      features=features,\n",
    "                                     l2_penalty=l2_penalty,\n",
    "                                     l1_penalty=0.,\n",
    "                                     validation_set=None,\n",
    "                                     verbose=False)\n",
    "    return model.get('coefficients')[1]"
   ]
  },
  {
   "cell_type": "code",
   "execution_count": 54,
   "metadata": {
    "collapsed": false
   },
   "outputs": [
    {
     "name": "stdout",
     "output_type": "stream",
     "text": [
      "{'index': None, 'stderr': 4735.64035967028, 'name': 'power_1', 'value': 103.09095591973461}\n"
     ]
    }
   ],
   "source": [
    "print ridge_model(poly15_data, 1e-5, 15)"
   ]
  },
  {
   "cell_type": "code",
   "execution_count": 7,
   "metadata": {
    "collapsed": false
   },
   "outputs": [
    {
     "name": "stdout",
     "output_type": "stream",
     "text": [
      "{'index': None, 'stderr': 4736.296739437046, 'name': 'power_1', 'value': 410.287462537506}\n"
     ]
    }
   ],
   "source": [
    "#l2_small_penalty = default 0.01\n",
    "print ridge_model(poly15_data, 0.01, 15)"
   ]
  },
  {
   "cell_type": "code",
   "execution_count": 8,
   "metadata": {
    "collapsed": true
   },
   "outputs": [],
   "source": [
    "split1, split2 = poly15_data.random_split(0.5, seed=0)\n",
    "set_1, set_2 = split1.random_split(0.5, seed=0)\n",
    "set_3, set_4 = split2.random_split(0.5, seed=0)"
   ]
  },
  {
   "cell_type": "code",
   "execution_count": 53,
   "metadata": {
    "collapsed": false
   },
   "outputs": [
    {
     "name": "stdout",
     "output_type": "stream",
     "text": [
      "{'index': None, 'stderr': 6003.288764621023, 'name': 'power_1', 'value': 585.8658233938417}\n",
      "{'index': None, 'stderr': 9293.984717634332, 'name': 'power_1', 'value': 783.493800280331}\n",
      "{'index': None, 'stderr': nan, 'name': 'power_1', 'value': -759.2518428541024}\n",
      "{'index': None, 'stderr': 9978.427912873512, 'name': 'power_1', 'value': 1247.5903454090083}\n"
     ]
    }
   ],
   "source": [
    "#2_small_penalty=1e-9\n",
    "print ridge_model(set_1, 1e-5, 15)\n",
    "print ridge_model(set_2, 1e-5, 15)\n",
    "print ridge_model(set_3, 1e-5, 15)\n",
    "print ridge_model(set_4, 1e-5, 15)"
   ]
  },
  {
   "cell_type": "code",
   "execution_count": 52,
   "metadata": {
    "collapsed": false
   },
   "outputs": [
    {
     "name": "stdout",
     "output_type": "stream",
     "text": [
      "{'index': None, 'stderr': 9034.214550768973, 'name': 'power_1', 'value': 2.5873887567286933}\n",
      "{'index': None, 'stderr': 12809.151526769316, 'name': 'power_1', 'value': 2.0447047418193693}\n",
      "{'index': None, 'stderr': nan, 'name': 'power_1', 'value': 2.268904218765791}\n",
      "{'index': None, 'stderr': 13195.254864203233, 'name': 'power_1', 'value': 1.9104093824432018}\n"
     ]
    }
   ],
   "source": [
    "#l2_large_penalty=1.e5\n",
    "print ridge_model(set_1, 1e5, 15)\n",
    "print ridge_model(set_2, 1e5, 15)\n",
    "print ridge_model(set_3, 1e5, 15)\n",
    "print ridge_model(set_4, 1e5, 15)"
   ]
  },
  {
   "cell_type": "markdown",
   "metadata": {},
   "source": [
    "## Selecting an L2 penalty via cross-validation"
   ]
  },
  {
   "cell_type": "code",
   "execution_count": 26,
   "metadata": {
    "collapsed": false
   },
   "outputs": [],
   "source": [
    "train_valid, test = sales.random_split(0.9, seed=1)\n",
    "train_valid_shuffled = graphlab.toolkits.cross_validation.shuffle(train_valid, random_seed=1)"
   ]
  },
  {
   "cell_type": "code",
   "execution_count": 41,
   "metadata": {
    "collapsed": true
   },
   "outputs": [],
   "source": [
    "degree = 15\n",
    "features = []\n",
    "for i in range(1, degree+1):\n",
    "    features.append('power_' + str(i))\n",
    "\n",
    "def ridge_model_2(data, l2_penalty, output):        \n",
    "    model = graphlab.linear_regression.create(data,\n",
    "                                            target=output, \n",
    "                                            features=features,\n",
    "                                            l2_penalty=l2_penalty,\n",
    "                                            l1_penalty=0.,\n",
    "                                            validation_set=None,\n",
    "                                            verbose=False)\n",
    "    return model\n",
    "    \n",
    "    \n",
    "def k_fold_cross_validation(k, l2_penalty, data, output):\n",
    "    rss_list = []\n",
    "    n = len(data)\n",
    "\n",
    "    for i in range(k):      \n",
    "        start = (n*i)/k\n",
    "        end = (n*(i+1))/k-1\n",
    "        validation_set = data[start:end+1]\n",
    "        training_set = data[0:start].append(data[end+1:n])\n",
    "    \n",
    "        model = ridge_model_2(training_set, l2_penalty, output)\n",
    "        errors_squared = (validation_set[output] - model.predict(validation_set))**2\n",
    "        rss_list.append(errors_squared.sum())\n",
    "    cross_valication_error = np.sum(rss_list)/len(rss_list)       \n",
    "    return cross_valication_error"
   ]
  },
  {
   "cell_type": "code",
   "execution_count": 46,
   "metadata": {
    "collapsed": false
   },
   "outputs": [
    {
     "name": "stdout",
     "output_type": "stream",
     "text": [
      "4.91826427769e+14 from  10.0\n",
      "2.87504229919e+14 from  31.6227766017\n",
      "1.60908965822e+14 from  100.0\n",
      "1.22090967326e+14 from  316.227766017\n",
      "1.21192264451e+14 from  1000.0\n",
      "1.2395000929e+14 from  3162.27766017\n",
      "1.36837175248e+14 from  10000.0\n",
      "1.71728094842e+14 from  31622.7766017\n",
      "2.2936143126e+14 from  100000.0\n",
      "2.52940568729e+14 from  316227.766017\n",
      "2.58682548441e+14 from  1000000.0\n",
      "2.62819399742e+14 from  3162277.66017\n",
      "2.64889015378e+14 from  10000000.0\n"
     ]
    }
   ],
   "source": [
    "poly15_train_valid_shuffled = polynomial_sframe(train_valid_shuffled['sqft_living'], 15)\n",
    "poly15_train_valid_shuffled['price'] = train_valid_shuffled['price']\n",
    "\n",
    "for l2 in np.logspace(1, 7, num=13):\n",
    "    print k_fold_cross_validation(10, l2, poly15_train_valid_shuffled, 'price'), 'from ', l2"
   ]
  },
  {
   "cell_type": "code",
   "execution_count": 47,
   "metadata": {
    "collapsed": true
   },
   "outputs": [],
   "source": [
    "best_model = ridge_model_2(poly15_train_valid_shuffled, 1000, 'price')"
   ]
  },
  {
   "cell_type": "code",
   "execution_count": 49,
   "metadata": {
    "collapsed": false
   },
   "outputs": [
    {
     "data": {
      "text/plain": [
       "128780855058449.25"
      ]
     },
     "execution_count": 49,
     "metadata": {},
     "output_type": "execute_result"
    }
   ],
   "source": [
    "poly15_test = polynomial_sframe(test['sqft_living'], 15)\n",
    "\n",
    "\n",
    "errors_squared = (test['price'] - best_model.predict(poly15_test))**2\n",
    "errors_squared.sum()"
   ]
  }
 ],
 "metadata": {
  "kernelspec": {
   "display_name": "Python 2",
   "language": "python",
   "name": "python2"
  },
  "language_info": {
   "codemirror_mode": {
    "name": "ipython",
    "version": 2
   },
   "file_extension": ".py",
   "mimetype": "text/x-python",
   "name": "python",
   "nbconvert_exporter": "python",
   "pygments_lexer": "ipython2",
   "version": "2.7.11"
  }
 },
 "nbformat": 4,
 "nbformat_minor": 0
}
